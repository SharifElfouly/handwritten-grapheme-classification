{
 "cells": [
  {
   "cell_type": "markdown",
   "metadata": {},
   "source": [
    "## Setup"
   ]
  },
  {
   "cell_type": "code",
   "execution_count": 1,
   "metadata": {},
   "outputs": [
    {
     "data": {
      "text/html": [
       "<style>.container { width:100% !important; }</style>"
      ],
      "text/plain": [
       "<IPython.core.display.HTML object>"
      ]
     },
     "metadata": {},
     "output_type": "display_data"
    }
   ],
   "source": [
    "import warnings\n",
    "warnings.filterwarnings('ignore')\n",
    "from IPython.core.interactiveshell import InteractiveShell\n",
    "InteractiveShell.ast_node_interactivity = \"all\"\n",
    "from IPython.core.display import display, HTML\n",
    "display(HTML(\"<style>.container { width:100% !important; }</style>\"))\n",
    "from IPython.display import display"
   ]
  },
  {
   "cell_type": "code",
   "execution_count": 3,
   "metadata": {},
   "outputs": [
    {
     "data": {
      "text/plain": [
       "2753784027"
      ]
     },
     "execution_count": 3,
     "metadata": {},
     "output_type": "execute_result"
    }
   ],
   "source": [
    "import pandas as pd\n",
    "from PIL import Image\n",
    "import numpy as np\n",
    "import torch\n",
    "import torch.optim as optim\n",
    "import torch.nn as nn\n",
    "import torch.nn.functional as F\n",
    "from torch import tensor\n",
    "from torch.utils.data import Dataset, DataLoader, RandomSampler, random_split\n",
    "import pytorch_lightning as pl\n",
    "from pytorch_lightning.callbacks import ModelCheckpoint, EarlyStopping\n",
    "from efficientnet_pytorch import EfficientNet\n",
    "from torchvision import transforms\n",
    "from collections import OrderedDict\n",
    "\n",
    "import wandb\n",
    "from pytorch_lightning.loggers import WandbLogger\n",
    "\n",
    "pl.seed_everything(hash(\"setting random seeds\") % 2**32 - 1)"
   ]
  },
  {
   "cell_type": "code",
   "execution_count": 4,
   "metadata": {},
   "outputs": [
    {
     "name": "stderr",
     "output_type": "stream",
     "text": [
      "\u001b[34m\u001b[1mwandb\u001b[0m: Currently logged in as: \u001b[33msharif\u001b[0m (use `wandb login --relogin` to force relogin)\n"
     ]
    },
    {
     "data": {
      "text/plain": [
       "True"
      ]
     },
     "execution_count": 4,
     "metadata": {},
     "output_type": "execute_result"
    }
   ],
   "source": [
    "wandb.login()"
   ]
  },
  {
   "cell_type": "code",
   "execution_count": 9,
   "metadata": {},
   "outputs": [],
   "source": [
    "p = {\n",
    "    'WITH_DROPOUT': False,\n",
    "    #'DROPOUT': 0.5,\n",
    "    'BATCH_SZ': 256, # 64\n",
    "    'TRAIN_VALID_SPLIT': 0.8,\n",
    "    'L1_MULTI': 1.0,\n",
    "    'L2_MULTI': 1.0,\n",
    "    'L3_MULTI': 1.0,\n",
    "    'W': 68, #68, 137\n",
    "    'H': 118, #118, 236\n",
    "    'MEAN': 0.93,\n",
    "    'STD': 0.2,\n",
    "    'MODEL': 'efficientnet-b0'\n",
    "}"
   ]
  },
  {
   "cell_type": "code",
   "execution_count": 10,
   "metadata": {},
   "outputs": [],
   "source": [
    "DATA1_F = 'data/train_image_data_0.feather'\n",
    "DATA2_F = 'data/train_image_data_1.feather'\n",
    "DATA3_F = 'data/train_image_data_2.feather'\n",
    "DATA4_F = 'data/train_image_data_3.feather'\n",
    "LABEL_F= 'data/train.csv'"
   ]
  },
  {
   "cell_type": "markdown",
   "metadata": {
    "heading_collapsed": true
   },
   "source": [
    "## EDA"
   ]
  },
  {
   "cell_type": "code",
   "execution_count": 13,
   "metadata": {
    "hidden": true
   },
   "outputs": [],
   "source": [
    "data1_df = pd.read_feather(DATA4_F)\n",
    "label_df = pd.read_csv(LABEL_F)"
   ]
  },
  {
   "cell_type": "code",
   "execution_count": 14,
   "metadata": {
    "hidden": true
   },
   "outputs": [
    {
     "data": {
      "text/plain": [
       "(50210, 200840)"
      ]
     },
     "execution_count": 14,
     "metadata": {},
     "output_type": "execute_result"
    }
   ],
   "source": [
    "len(data1_df), len(label_df)"
   ]
  },
  {
   "cell_type": "code",
   "execution_count": 15,
   "metadata": {
    "hidden": true
   },
   "outputs": [
    {
     "data": {
      "text/html": [
       "<div>\n",
       "<style scoped>\n",
       "    .dataframe tbody tr th:only-of-type {\n",
       "        vertical-align: middle;\n",
       "    }\n",
       "\n",
       "    .dataframe tbody tr th {\n",
       "        vertical-align: top;\n",
       "    }\n",
       "\n",
       "    .dataframe thead th {\n",
       "        text-align: right;\n",
       "    }\n",
       "</style>\n",
       "<table border=\"1\" class=\"dataframe\">\n",
       "  <thead>\n",
       "    <tr style=\"text-align: right;\">\n",
       "      <th></th>\n",
       "      <th>image_id</th>\n",
       "      <th>0</th>\n",
       "      <th>1</th>\n",
       "      <th>2</th>\n",
       "      <th>3</th>\n",
       "      <th>4</th>\n",
       "      <th>5</th>\n",
       "      <th>6</th>\n",
       "      <th>7</th>\n",
       "      <th>8</th>\n",
       "      <th>...</th>\n",
       "      <th>32322</th>\n",
       "      <th>32323</th>\n",
       "      <th>32324</th>\n",
       "      <th>32325</th>\n",
       "      <th>32326</th>\n",
       "      <th>32327</th>\n",
       "      <th>32328</th>\n",
       "      <th>32329</th>\n",
       "      <th>32330</th>\n",
       "      <th>32331</th>\n",
       "    </tr>\n",
       "  </thead>\n",
       "  <tbody>\n",
       "    <tr>\n",
       "      <th>0</th>\n",
       "      <td>Train_150630</td>\n",
       "      <td>246</td>\n",
       "      <td>245</td>\n",
       "      <td>244</td>\n",
       "      <td>244</td>\n",
       "      <td>245</td>\n",
       "      <td>247</td>\n",
       "      <td>246</td>\n",
       "      <td>244</td>\n",
       "      <td>247</td>\n",
       "      <td>...</td>\n",
       "      <td>252</td>\n",
       "      <td>252</td>\n",
       "      <td>251</td>\n",
       "      <td>251</td>\n",
       "      <td>251</td>\n",
       "      <td>251</td>\n",
       "      <td>251</td>\n",
       "      <td>252</td>\n",
       "      <td>253</td>\n",
       "      <td>252</td>\n",
       "    </tr>\n",
       "    <tr>\n",
       "      <th>1</th>\n",
       "      <td>Train_150631</td>\n",
       "      <td>213</td>\n",
       "      <td>241</td>\n",
       "      <td>247</td>\n",
       "      <td>247</td>\n",
       "      <td>246</td>\n",
       "      <td>247</td>\n",
       "      <td>246</td>\n",
       "      <td>244</td>\n",
       "      <td>247</td>\n",
       "      <td>...</td>\n",
       "      <td>193</td>\n",
       "      <td>198</td>\n",
       "      <td>200</td>\n",
       "      <td>202</td>\n",
       "      <td>200</td>\n",
       "      <td>196</td>\n",
       "      <td>194</td>\n",
       "      <td>192</td>\n",
       "      <td>175</td>\n",
       "      <td>117</td>\n",
       "    </tr>\n",
       "    <tr>\n",
       "      <th>2</th>\n",
       "      <td>Train_150632</td>\n",
       "      <td>253</td>\n",
       "      <td>253</td>\n",
       "      <td>252</td>\n",
       "      <td>252</td>\n",
       "      <td>251</td>\n",
       "      <td>252</td>\n",
       "      <td>253</td>\n",
       "      <td>253</td>\n",
       "      <td>253</td>\n",
       "      <td>...</td>\n",
       "      <td>253</td>\n",
       "      <td>253</td>\n",
       "      <td>253</td>\n",
       "      <td>253</td>\n",
       "      <td>253</td>\n",
       "      <td>253</td>\n",
       "      <td>253</td>\n",
       "      <td>253</td>\n",
       "      <td>253</td>\n",
       "      <td>253</td>\n",
       "    </tr>\n",
       "    <tr>\n",
       "      <th>3</th>\n",
       "      <td>Train_150633</td>\n",
       "      <td>252</td>\n",
       "      <td>252</td>\n",
       "      <td>252</td>\n",
       "      <td>252</td>\n",
       "      <td>252</td>\n",
       "      <td>252</td>\n",
       "      <td>252</td>\n",
       "      <td>252</td>\n",
       "      <td>252</td>\n",
       "      <td>...</td>\n",
       "      <td>255</td>\n",
       "      <td>255</td>\n",
       "      <td>255</td>\n",
       "      <td>255</td>\n",
       "      <td>255</td>\n",
       "      <td>255</td>\n",
       "      <td>255</td>\n",
       "      <td>255</td>\n",
       "      <td>255</td>\n",
       "      <td>255</td>\n",
       "    </tr>\n",
       "    <tr>\n",
       "      <th>4</th>\n",
       "      <td>Train_150634</td>\n",
       "      <td>255</td>\n",
       "      <td>255</td>\n",
       "      <td>255</td>\n",
       "      <td>255</td>\n",
       "      <td>255</td>\n",
       "      <td>255</td>\n",
       "      <td>255</td>\n",
       "      <td>255</td>\n",
       "      <td>255</td>\n",
       "      <td>...</td>\n",
       "      <td>255</td>\n",
       "      <td>255</td>\n",
       "      <td>255</td>\n",
       "      <td>255</td>\n",
       "      <td>255</td>\n",
       "      <td>255</td>\n",
       "      <td>255</td>\n",
       "      <td>255</td>\n",
       "      <td>255</td>\n",
       "      <td>255</td>\n",
       "    </tr>\n",
       "  </tbody>\n",
       "</table>\n",
       "<p>5 rows × 32333 columns</p>\n",
       "</div>"
      ],
      "text/plain": [
       "       image_id    0    1    2    3    4    5    6    7    8  ...  32322  \\\n",
       "0  Train_150630  246  245  244  244  245  247  246  244  247  ...    252   \n",
       "1  Train_150631  213  241  247  247  246  247  246  244  247  ...    193   \n",
       "2  Train_150632  253  253  252  252  251  252  253  253  253  ...    253   \n",
       "3  Train_150633  252  252  252  252  252  252  252  252  252  ...    255   \n",
       "4  Train_150634  255  255  255  255  255  255  255  255  255  ...    255   \n",
       "\n",
       "   32323  32324  32325  32326  32327  32328  32329  32330  32331  \n",
       "0    252    251    251    251    251    251    252    253    252  \n",
       "1    198    200    202    200    196    194    192    175    117  \n",
       "2    253    253    253    253    253    253    253    253    253  \n",
       "3    255    255    255    255    255    255    255    255    255  \n",
       "4    255    255    255    255    255    255    255    255    255  \n",
       "\n",
       "[5 rows x 32333 columns]"
      ]
     },
     "execution_count": 15,
     "metadata": {},
     "output_type": "execute_result"
    }
   ],
   "source": [
    "data1_df.head(5)"
   ]
  },
  {
   "cell_type": "code",
   "execution_count": 16,
   "metadata": {
    "hidden": true
   },
   "outputs": [
    {
     "data": {
      "text/html": [
       "<div>\n",
       "<style scoped>\n",
       "    .dataframe tbody tr th:only-of-type {\n",
       "        vertical-align: middle;\n",
       "    }\n",
       "\n",
       "    .dataframe tbody tr th {\n",
       "        vertical-align: top;\n",
       "    }\n",
       "\n",
       "    .dataframe thead th {\n",
       "        text-align: right;\n",
       "    }\n",
       "</style>\n",
       "<table border=\"1\" class=\"dataframe\">\n",
       "  <thead>\n",
       "    <tr style=\"text-align: right;\">\n",
       "      <th></th>\n",
       "      <th>image_id</th>\n",
       "      <th>grapheme_root</th>\n",
       "      <th>vowel_diacritic</th>\n",
       "      <th>consonant_diacritic</th>\n",
       "      <th>grapheme</th>\n",
       "    </tr>\n",
       "  </thead>\n",
       "  <tbody>\n",
       "    <tr>\n",
       "      <th>0</th>\n",
       "      <td>Train_0</td>\n",
       "      <td>15</td>\n",
       "      <td>9</td>\n",
       "      <td>5</td>\n",
       "      <td>ক্ট্রো</td>\n",
       "    </tr>\n",
       "    <tr>\n",
       "      <th>1</th>\n",
       "      <td>Train_1</td>\n",
       "      <td>159</td>\n",
       "      <td>0</td>\n",
       "      <td>0</td>\n",
       "      <td>হ</td>\n",
       "    </tr>\n",
       "    <tr>\n",
       "      <th>2</th>\n",
       "      <td>Train_2</td>\n",
       "      <td>22</td>\n",
       "      <td>3</td>\n",
       "      <td>5</td>\n",
       "      <td>খ্রী</td>\n",
       "    </tr>\n",
       "    <tr>\n",
       "      <th>3</th>\n",
       "      <td>Train_3</td>\n",
       "      <td>53</td>\n",
       "      <td>2</td>\n",
       "      <td>2</td>\n",
       "      <td>র্টি</td>\n",
       "    </tr>\n",
       "    <tr>\n",
       "      <th>4</th>\n",
       "      <td>Train_4</td>\n",
       "      <td>71</td>\n",
       "      <td>9</td>\n",
       "      <td>5</td>\n",
       "      <td>থ্রো</td>\n",
       "    </tr>\n",
       "  </tbody>\n",
       "</table>\n",
       "</div>"
      ],
      "text/plain": [
       "  image_id  grapheme_root  vowel_diacritic  consonant_diacritic grapheme\n",
       "0  Train_0             15                9                    5   ক্ট্রো\n",
       "1  Train_1            159                0                    0        হ\n",
       "2  Train_2             22                3                    5     খ্রী\n",
       "3  Train_3             53                2                    2     র্টি\n",
       "4  Train_4             71                9                    5     থ্রো"
      ]
     },
     "execution_count": 16,
     "metadata": {},
     "output_type": "execute_result"
    }
   ],
   "source": [
    "label_df.head(5)"
   ]
  },
  {
   "cell_type": "code",
   "execution_count": 19,
   "metadata": {
    "hidden": true
   },
   "outputs": [],
   "source": [
    "def show_image(idx):\n",
    "    img = data1_df.loc[idx][1:].to_numpy().reshape(137,236).astype(np.uint8)\n",
    "    display(Image.fromarray(img))"
   ]
  },
  {
   "cell_type": "markdown",
   "metadata": {
    "heading_collapsed": true,
    "hidden": true
   },
   "source": [
    "### Examples"
   ]
  },
  {
   "cell_type": "code",
   "execution_count": 22,
   "metadata": {
    "hidden": true
   },
   "outputs": [
    {
     "data": {
      "image/png": "[encoded data removed]",
      "text/plain": [
       "<PIL.Image.Image image mode=L size=236x137 at 0x7F24614560D0>"
      ]
     },
     "metadata": {},
     "output_type": "display_data"
    },
    {
     "data": {
      "image/png": "[encoded data removed]",
      "text/plain": [
       "<PIL.Image.Image image mode=L size=236x137 at 0x7F2461AB2880>"
      ]
     },
     "metadata": {},
     "output_type": "display_data"
    },
    {
     "data": {
      "image/png": "[encoded data removed]",
      "text/plain": [
       "<PIL.Image.Image image mode=L size=236x137 at 0x7F24614560D0>"
      ]
     },
     "metadata": {},
     "output_type": "display_data"
    },
    {
     "data": {
      "image/png": "[encoded data removed]",
      "text/plain": [
       "<PIL.Image.Image image mode=L size=236x137 at 0x7F2461AB2880>"
      ]
     },
     "metadata": {},
     "output_type": "display_data"
    }
   ],
   "source": [
    "show_image(0); show_image(1); show_image(2); show_image(3);"
   ]
  },
  {
   "cell_type": "markdown",
   "metadata": {},
   "source": [
    "## Dataset"
   ]
  },
  {
   "cell_type": "code",
   "execution_count": 11,
   "metadata": {},
   "outputs": [],
   "source": [
    "class FeatherDS(Dataset):\n",
    "    def __init__(self, f_files, label_f, tfms):\n",
    "        self.labels = pd.read_csv(label_f)\n",
    "        self.data_df = pd.DataFrame()\n",
    "        self.tfms = tfms\n",
    "        for f_file in f_files: \n",
    "            self.data_df = self.data_df.append(pd.read_feather(f_file))\n",
    "        self.data_df.reset_index(inplace=True)\n",
    "        \n",
    "    def __len__(self): return len(self.data_df)\n",
    "    \n",
    "    def __getitem__(self, i):\n",
    "        label   = self.labels.iloc[i]\n",
    "        graph,vow,cons = label['grapheme_root'],label['vowel_diacritic'],label['consonant_diacritic']\n",
    "        img = self.data_df.loc[i][2:].to_numpy().reshape(137,236).astype(np.uint8)\n",
    "        return tfms(img), [graph,vow,cons]"
   ]
  },
  {
   "cell_type": "code",
   "execution_count": 12,
   "metadata": {},
   "outputs": [],
   "source": [
    "tfms=transforms.Compose([transforms.ToTensor(),\n",
    "                         transforms.Resize((p['W'],p['H'])),\n",
    "                         transforms.Normalize(p['MEAN'], p['STD'])])"
   ]
  },
  {
   "cell_type": "code",
   "execution_count": 13,
   "metadata": {},
   "outputs": [],
   "source": [
    "ds = FeatherDS([DATA1_F,DATA2_F,DATA3_F,DATA4_F], LABEL_F, tfms)"
   ]
  },
  {
   "cell_type": "code",
   "execution_count": 14,
   "metadata": {},
   "outputs": [],
   "source": [
    "# sanity check\n",
    "image,label = ds[211]\n",
    "assert list(image.shape) == [1, p['W'], p['H']]\n",
    "assert len(label) == 3"
   ]
  },
  {
   "cell_type": "code",
   "execution_count": 15,
   "metadata": {},
   "outputs": [
    {
     "data": {
      "text/plain": [
       "(tensor(0.0984), tensor(0.7715))"
      ]
     },
     "execution_count": 15,
     "metadata": {},
     "output_type": "execute_result"
    }
   ],
   "source": [
    "image.mean(), image.std()"
   ]
  },
  {
   "cell_type": "markdown",
   "metadata": {},
   "source": [
    "## Model"
   ]
  },
  {
   "cell_type": "code",
   "execution_count": 16,
   "metadata": {},
   "outputs": [],
   "source": [
    "n_cat_grapheme = 168\n",
    "n_cat_vowel    = 11\n",
    "n_consonant    = 7"
   ]
  },
  {
   "cell_type": "code",
   "execution_count": 17,
   "metadata": {},
   "outputs": [],
   "source": [
    "def accuracy(y, y_hat): return (y_hat.argmax(dim=1) == y).float().mean()"
   ]
  },
  {
   "cell_type": "code",
   "execution_count": 18,
   "metadata": {},
   "outputs": [],
   "source": [
    "def swish(x): return x*torch.sigmoid(x)"
   ]
  },
  {
   "cell_type": "code",
   "execution_count": 19,
   "metadata": {},
   "outputs": [],
   "source": [
    "class Model(pl.LightningModule):\n",
    "    def __init__(self, p):\n",
    "        super().__init__()\n",
    "        self.hparams = p\n",
    "        self.save_hyperparameters()\n",
    "        \n",
    "        self.en = EfficientNet.from_pretrained(p['MODEL'], in_channels=1)\n",
    "        self.conv1 = nn.Conv2d(1280, 20, 3, bias=False)\n",
    "        self.conv2 = nn.Conv2d(1280, 4,  3, bias=False)\n",
    "        self.conv3 = nn.Conv2d(1280, 3,  3, bias=False)\n",
    "        self.bn1    = nn.BatchNorm2d(20)\n",
    "        self.bn2    = nn.BatchNorm2d(4)\n",
    "        self.bn3    = nn.BatchNorm2d(3)\n",
    "        self.l1    = nn.Linear(40, n_cat_grapheme) # 40 360\n",
    "        self.l2    = nn.Linear(8,  n_cat_vowel)    # 8 72\n",
    "        self.l3    = nn.Linear(6,  n_consonant)    # 6 54\n",
    "        \n",
    "    def forward(self, x):\n",
    "        y = self.en.extract_features(x)\n",
    "        \n",
    "        y1 = self.bn1(self.conv1(y))\n",
    "        y2 = self.bn2(self.conv2(y))\n",
    "        y3 = self.bn3(self.conv3(y))\n",
    "        \n",
    "        y1 = swish(y1)\n",
    "        y2 = swish(y2)\n",
    "        y3 = swish(y3)\n",
    "    \n",
    "        y1 = torch.flatten(y1, 1)\n",
    "        y2 = torch.flatten(y2, 1)\n",
    "        y3 = torch.flatten(y3, 1)\n",
    "\n",
    "        y1 = self.l1(y1)\n",
    "        y2 = self.l2(y2)\n",
    "        y3 = self.l3(y3)\n",
    "        \n",
    "        return y1,y2,y3\n",
    "    \n",
    "    def step(self, batch, batch_idx):\n",
    "        x,labels = batch\n",
    "        graph,vow,cons = labels\n",
    "        y1_hat,y2_hat,y3_hat = self(x)\n",
    "        l1 = F.cross_entropy(y1_hat, graph)\n",
    "        l2 = F.cross_entropy(y2_hat, vow)\n",
    "        l3 = F.cross_entropy(y3_hat, cons)\n",
    "        l = (p['L1_MULTI']*l1)+(p['L2_MULTI']*l2)+(p['L3_MULTI']*l3)\n",
    "        acc1 = accuracy(graph, y1_hat)\n",
    "        acc2 = accuracy(vow, y2_hat)\n",
    "        acc3 = accuracy(cons, y3_hat)\n",
    "        acc = (acc1+acc2+acc3)/3\n",
    "        return OrderedDict({\n",
    "            'l1':l1,\n",
    "            'l2':l2,\n",
    "            'l3':l3,\n",
    "            'loss': l,\n",
    "            'acc1': acc1,\n",
    "            'acc2': acc2,\n",
    "            'acc3': acc3,\n",
    "            'accuracy': acc\n",
    "        })\n",
    "    \n",
    "    def create_logs(self, outputs):\n",
    "        loss = torch.stack([output['loss'] for output in outputs]).float().mean()\n",
    "        acc = torch.stack([output['accuracy'] for output in outputs]).float().mean()\n",
    "        l1 = torch.stack([output['l1'] for output in outputs]).float().mean()\n",
    "        l2 = torch.stack([output['l2'] for output in outputs]).float().mean()\n",
    "        l3 = torch.stack([output['l3'] for output in outputs]).float().mean()\n",
    "        acc1 = torch.stack([output['acc1'] for output in outputs]).float().mean()\n",
    "        acc2 = torch.stack([output['acc2'] for output in outputs]).float().mean()\n",
    "        acc3 = torch.stack([output['acc3'] for output in outputs]).float().mean()\n",
    "        log_dict = {'loss':loss,'acc':acc,\n",
    "                   'l1':l1,'l2':l2,'l3':l3,\n",
    "                   'acc1':acc1,'acc2':acc2,'acc3':acc3}\n",
    "        return log_dict\n",
    "        \n",
    "    def training_step(self, batch, batch_idx):\n",
    "        out = self.step(batch, batch_idx)\n",
    "        self.log('train_batch_acc', out['accuracy'])\n",
    "        self.log('train_batch_loss', out['loss'])\n",
    "        return out\n",
    "    \n",
    "    def training_epoch_end(self, outputs):\n",
    "        log_dict = self.create_logs(outputs)\n",
    "        log_dict = {'train_'+k:v for k,v in log_dict.items()}\n",
    "        self.log_dict(log_dict)\n",
    "    \n",
    "    def validation_step(self, batch, batch_idx): \n",
    "        out = self.step(batch, batch_idx)\n",
    "        return out\n",
    "    \n",
    "    def validation_epoch_end(self, outputs):\n",
    "        log_dict = self.create_logs(outputs)\n",
    "        log_dict = {'valid_'+k:v for k,v in log_dict.items()}\n",
    "        self.log_dict(log_dict)\n",
    "    \n",
    "    def configure_optimizers(self):\n",
    "        return optim.Adam(self.parameters())"
   ]
  },
  {
   "cell_type": "code",
   "execution_count": 20,
   "metadata": {},
   "outputs": [
    {
     "name": "stdout",
     "output_type": "stream",
     "text": [
      "Loaded pretrained weights for efficientnet-b0\n"
     ]
    }
   ],
   "source": [
    "m = Model(p)"
   ]
  },
  {
   "cell_type": "code",
   "execution_count": 21,
   "metadata": {},
   "outputs": [],
   "source": [
    "split = int(len(ds)*p['TRAIN_VALID_SPLIT'])\n",
    "train_ds,valid_ds = random_split(ds, [split, len(ds)-split])"
   ]
  },
  {
   "cell_type": "code",
   "execution_count": 22,
   "metadata": {},
   "outputs": [
    {
     "data": {
      "text/plain": [
       "(160672, 40168)"
      ]
     },
     "execution_count": 22,
     "metadata": {},
     "output_type": "execute_result"
    }
   ],
   "source": [
    "len(train_ds),len(valid_ds)"
   ]
  },
  {
   "cell_type": "code",
   "execution_count": 23,
   "metadata": {},
   "outputs": [],
   "source": [
    "train_dl = DataLoader(train_ds, batch_size=p['BATCH_SZ'], num_workers=6, pin_memory=True)\n",
    "valid_dl = DataLoader(valid_ds, batch_size=p['BATCH_SZ'], num_workers=6, pin_memory=True)"
   ]
  },
  {
   "cell_type": "code",
   "execution_count": 24,
   "metadata": {},
   "outputs": [],
   "source": [
    "checkpoint = ModelCheckpoint(\n",
    "    monitor='valid_acc',\n",
    "    filename='cnn-{epoch:02d}-{valid_acc:.4f}',\n",
    "    save_top_k=2,\n",
    "    mode='max'\n",
    ")\n",
    "\n",
    "early_stopping = EarlyStopping(\n",
    "    monitor='valid_acc',\n",
    "    patience=5,\n",
    "    verbose=True,\n",
    "    mode='max'\n",
    ")"
   ]
  },
  {
   "cell_type": "code",
   "execution_count": 25,
   "metadata": {},
   "outputs": [],
   "source": [
    "wandb_logger = WandbLogger(project=\"lit-wandb\")"
   ]
  },
  {
   "cell_type": "code",
   "execution_count": 26,
   "metadata": {
    "scrolled": false
   },
   "outputs": [
    {
     "name": "stderr",
     "output_type": "stream",
     "text": [
      "GPU available: True, used: True\n",
      "TPU available: False, using: 0 TPU cores\n",
      "LOCAL_RANK: 0 - CUDA_VISIBLE_DEVICES: [0]\n"
     ]
    },
    {
     "data": {
      "text/html": [
       "\n",
       "                Tracking run with wandb version 0.10.10<br/>\n",
       "                Syncing run <strong style=\"color:#cdcd00\">whole-deluge-10</strong> to <a href=\"https://wandb.ai\" target=\"_blank\">Weights & Biases</a> <a href=\"https://docs.wandb.com/integrations/jupyter.html\" target=\"_blank\">(Documentation)</a>.<br/>\n",
       "                Project page: <a href=\"https://wandb.ai/sharif/lit-wandb\" target=\"_blank\">https://wandb.ai/sharif/lit-wandb</a><br/>\n",
       "                Run page: <a href=\"https://wandb.ai/sharif/lit-wandb/runs/1ka7kps0\" target=\"_blank\">https://wandb.ai/sharif/lit-wandb/runs/1ka7kps0</a><br/>\n",
       "                Run data is saved locally in <code>/home/sharif/Documents/Challenges/bengali_ai_v2/wandb/run-20201115_094638-1ka7kps0</code><br/><br/>\n",
       "            "
      ],
      "text/plain": [
       "<IPython.core.display.HTML object>"
      ]
     },
     "metadata": {},
     "output_type": "display_data"
    },
    {
     "name": "stderr",
     "output_type": "stream",
     "text": [
      "\n",
      "  | Name  | Type         | Params\n",
      "---------------------------------------\n",
      "0 | en    | EfficientNet | 5 M   \n",
      "1 | conv1 | Conv2d       | 230 K \n",
      "2 | conv2 | Conv2d       | 46 K  \n",
      "3 | conv3 | Conv2d       | 34 K  \n",
      "4 | bn1   | BatchNorm2d  | 40    \n",
      "5 | bn2   | BatchNorm2d  | 8     \n",
      "6 | bn3   | BatchNorm2d  | 6     \n",
      "7 | l1    | Linear       | 6 K   \n",
      "8 | l2    | Linear       | 99    \n",
      "9 | l3    | Linear       | 49    \n"
     ]
    },
    {
     "data": {
      "application/vnd.jupyter.widget-view+json": {
       "model_id": "",
       "version_major": 2,
       "version_minor": 0
      },
      "text/plain": [
       "HBox(children=(HTML(value='Validation sanity check'), FloatProgress(value=1.0, bar_style='info', layout=Layout…"
      ]
     },
     "metadata": {},
     "output_type": "display_data"
    },
    {
     "data": {
      "application/vnd.jupyter.widget-view+json": {
       "model_id": "9f97820d9ad54431a6657c3b9c561726",
       "version_major": 2,
       "version_minor": 0
      },
      "text/plain": [
       "HBox(children=(HTML(value='Training'), FloatProgress(value=1.0, bar_style='info', layout=Layout(flex='2'), max…"
      ]
     },
     "metadata": {},
     "output_type": "display_data"
    },
    {
     "data": {
      "application/vnd.jupyter.widget-view+json": {
       "model_id": "",
       "version_major": 2,
       "version_minor": 0
      },
      "text/plain": [
       "HBox(children=(HTML(value='Validating'), FloatProgress(value=1.0, bar_style='info', layout=Layout(flex='2'), m…"
      ]
     },
     "metadata": {},
     "output_type": "display_data"
    },
    {
     "data": {
      "application/vnd.jupyter.widget-view+json": {
       "model_id": "",
       "version_major": 2,
       "version_minor": 0
      },
      "text/plain": [
       "HBox(children=(HTML(value='Validating'), FloatProgress(value=1.0, bar_style='info', layout=Layout(flex='2'), m…"
      ]
     },
     "metadata": {},
     "output_type": "display_data"
    },
    {
     "data": {
      "application/vnd.jupyter.widget-view+json": {
       "model_id": "",
       "version_major": 2,
       "version_minor": 0
      },
      "text/plain": [
       "HBox(children=(HTML(value='Validating'), FloatProgress(value=1.0, bar_style='info', layout=Layout(flex='2'), m…"
      ]
     },
     "metadata": {},
     "output_type": "display_data"
    },
    {
     "data": {
      "application/vnd.jupyter.widget-view+json": {
       "model_id": "",
       "version_major": 2,
       "version_minor": 0
      },
      "text/plain": [
       "HBox(children=(HTML(value='Validating'), FloatProgress(value=1.0, bar_style='info', layout=Layout(flex='2'), m…"
      ]
     },
     "metadata": {},
     "output_type": "display_data"
    },
    {
     "data": {
      "application/vnd.jupyter.widget-view+json": {
       "model_id": "",
       "version_major": 2,
       "version_minor": 0
      },
      "text/plain": [
       "HBox(children=(HTML(value='Validating'), FloatProgress(value=1.0, bar_style='info', layout=Layout(flex='2'), m…"
      ]
     },
     "metadata": {},
     "output_type": "display_data"
    },
    {
     "data": {
      "application/vnd.jupyter.widget-view+json": {
       "model_id": "",
       "version_major": 2,
       "version_minor": 0
      },
      "text/plain": [
       "HBox(children=(HTML(value='Validating'), FloatProgress(value=1.0, bar_style='info', layout=Layout(flex='2'), m…"
      ]
     },
     "metadata": {},
     "output_type": "display_data"
    },
    {
     "data": {
      "application/vnd.jupyter.widget-view+json": {
       "model_id": "",
       "version_major": 2,
       "version_minor": 0
      },
      "text/plain": [
       "HBox(children=(HTML(value='Validating'), FloatProgress(value=1.0, bar_style='info', layout=Layout(flex='2'), m…"
      ]
     },
     "metadata": {},
     "output_type": "display_data"
    },
    {
     "data": {
      "application/vnd.jupyter.widget-view+json": {
       "model_id": "",
       "version_major": 2,
       "version_minor": 0
      },
      "text/plain": [
       "HBox(children=(HTML(value='Validating'), FloatProgress(value=1.0, bar_style='info', layout=Layout(flex='2'), m…"
      ]
     },
     "metadata": {},
     "output_type": "display_data"
    },
    {
     "data": {
      "application/vnd.jupyter.widget-view+json": {
       "model_id": "",
       "version_major": 2,
       "version_minor": 0
      },
      "text/plain": [
       "HBox(children=(HTML(value='Validating'), FloatProgress(value=1.0, bar_style='info', layout=Layout(flex='2'), m…"
      ]
     },
     "metadata": {},
     "output_type": "display_data"
    },
    {
     "name": "stderr",
     "output_type": "stream",
     "text": [
      "/home/sharif/anaconda3/lib/python3.8/site-packages/pytorch_lightning/utilities/distributed.py:45: UserWarning: Detected KeyboardInterrupt, attempting graceful shutdown...\n",
      "  warnings.warn(*args, **kwargs)\n"
     ]
    },
    {
     "name": "stdout",
     "output_type": "stream",
     "text": [
      "\n"
     ]
    },
    {
     "data": {
      "text/plain": [
       "1"
      ]
     },
     "execution_count": 26,
     "metadata": {},
     "output_type": "execute_result"
    }
   ],
   "source": [
    "trainer = pl.Trainer(gpus=1, fast_dev_run=False, log_every_n_steps=10, logger=wandb_logger, deterministic=True, callbacks=[checkpoint,early_stopping])#, overfit_batches=5) #fast_dev_run=True)\n",
    "trainer.fit(m, train_dataloader=train_dl, val_dataloaders=valid_dl)"
   ]
  },
  {
   "cell_type": "code",
   "execution_count": 27,
   "metadata": {},
   "outputs": [
    {
     "data": {
      "text/html": [
       "<br/>Waiting for W&B process to finish, PID 118314<br/>Program ended successfully."
      ],
      "text/plain": [
       "<IPython.core.display.HTML object>"
      ]
     },
     "metadata": {},
     "output_type": "display_data"
    },
    {
     "data": {
      "application/vnd.jupyter.widget-view+json": {
       "model_id": "",
       "version_major": 2,
       "version_minor": 0
      },
      "text/plain": [
       "VBox(children=(Label(value=' 0.00MB of 0.00MB uploaded (0.00MB deduped)\\r'), FloatProgress(value=1.0, max=1.0)…"
      ]
     },
     "metadata": {},
     "output_type": "display_data"
    },
    {
     "data": {
      "text/html": [
       "Find user logs for this run at: <code>/home/sharif/Documents/Challenges/bengali_ai_v2/wandb/run-20201115_094638-1ka7kps0/logs/debug.log</code>"
      ],
      "text/plain": [
       "<IPython.core.display.HTML object>"
      ]
     },
     "metadata": {},
     "output_type": "display_data"
    },
    {
     "data": {
      "text/html": [
       "Find internal logs for this run at: <code>/home/sharif/Documents/Challenges/bengali_ai_v2/wandb/run-20201115_094638-1ka7kps0/logs/debug-internal.log</code>"
      ],
      "text/plain": [
       "<IPython.core.display.HTML object>"
      ]
     },
     "metadata": {},
     "output_type": "display_data"
    },
    {
     "data": {
      "text/html": [
       "<h3>Run summary:</h3><br/><style>\n",
       "    table.wandb td:nth-child(1) { padding: 0 10px; text-align: right }\n",
       "    </style><table class=\"wandb\">\n",
       "<tr><td>train_batch_acc</td><td>0.98828</td></tr><tr><td>train_batch_loss</td><td>0.1157</td></tr><tr><td>epoch</td><td>9</td></tr><tr><td>_step</td><td>5879</td></tr><tr><td>_runtime</td><td>4909</td></tr><tr><td>_timestamp</td><td>1605434908</td></tr><tr><td>valid_loss</td><td>0.63479</td></tr><tr><td>valid_acc</td><td>0.95053</td></tr><tr><td>valid_l1</td><td>0.4247</td></tr><tr><td>valid_l2</td><td>0.10213</td></tr><tr><td>valid_l3</td><td>0.10796</td></tr><tr><td>valid_acc1</td><td>0.90072</td></tr><tr><td>valid_acc2</td><td>0.97713</td></tr><tr><td>valid_acc3</td><td>0.97374</td></tr><tr><td>train_loss</td><td>0.14555</td></tr><tr><td>train_acc</td><td>0.98469</td></tr><tr><td>train_l1</td><td>0.09443</td></tr><tr><td>train_l2</td><td>0.02569</td></tr><tr><td>train_l3</td><td>0.02544</td></tr><tr><td>train_acc1</td><td>0.9699</td></tr><tr><td>train_acc2</td><td>0.99218</td></tr><tr><td>train_acc3</td><td>0.99199</td></tr></table>"
      ],
      "text/plain": [
       "<IPython.core.display.HTML object>"
      ]
     },
     "metadata": {},
     "output_type": "display_data"
    },
    {
     "data": {
      "text/html": [
       "<h3>Run history:</h3><br/><style>\n",
       "    table.wandb td:nth-child(1) { padding: 0 10px; text-align: right }\n",
       "    </style><table class=\"wandb\">\n",
       "<tr><td>train_batch_acc</td><td>▁▄▅▇▇▇▇▇▇██▇████████████████████████████</td></tr><tr><td>train_batch_loss</td><td>█▆▄▂▂▂▂▂▂▁▁▁▁▁▁▁▁▁▁▁▁▁▁▁▁▁▁▁▁▁▁▁▁▁▁▁▁▁▁▁</td></tr><tr><td>epoch</td><td>▁▁▁▁▂▂▂▂▂▃▃▃▃▃▃▃▃▄▄▄▄▅▅▅▅▅▆▆▆▆▆▆▆▆▇▇▇▇██</td></tr><tr><td>_step</td><td>▁▁▁▁▂▂▂▂▂▃▃▃▃▃▃▄▄▄▄▄▅▅▅▅▅▅▆▆▆▆▆▇▇▇▇▇▇███</td></tr><tr><td>_runtime</td><td>▁▁▁▁▂▂▂▂▂▃▃▃▃▃▃▄▄▄▄▄▄▅▅▅▅▅▆▆▆▆▆▇▇▇▇▇▇███</td></tr><tr><td>_timestamp</td><td>▁▁▁▁▂▂▂▂▂▃▃▃▃▃▃▄▄▄▄▄▄▅▅▅▅▅▆▆▆▆▆▇▇▇▇▇▇███</td></tr><tr><td>valid_loss</td><td>█▃▂▁▁▁▁▁▁</td></tr><tr><td>valid_acc</td><td>▁▅▆▇██▇██</td></tr><tr><td>valid_l1</td><td>█▃▂▂▁▁▁▂▂</td></tr><tr><td>valid_l2</td><td>█▃▂▁▁▁▁▁▁</td></tr><tr><td>valid_l3</td><td>█▃▂▁▁▁▂▁▁</td></tr><tr><td>valid_acc1</td><td>▁▅▆▇█████</td></tr><tr><td>valid_acc2</td><td>▁▅▆▇▇▇▇██</td></tr><tr><td>valid_acc3</td><td>▁▅▆▇▇▇▇██</td></tr><tr><td>train_loss</td><td>█▂▂▁▁▁▁▁▁</td></tr><tr><td>train_acc</td><td>▁▆▇▇█████</td></tr><tr><td>train_l1</td><td>█▂▂▁▁▁▁▁▁</td></tr><tr><td>train_l2</td><td>█▂▂▁▁▁▁▁▁</td></tr><tr><td>train_l3</td><td>█▂▂▁▁▁▁▁▁</td></tr><tr><td>train_acc1</td><td>▁▆▇▇█████</td></tr><tr><td>train_acc2</td><td>▁▇▇██████</td></tr><tr><td>train_acc3</td><td>▁▇▇██████</td></tr></table><br/>"
      ],
      "text/plain": [
       "<IPython.core.display.HTML object>"
      ]
     },
     "metadata": {},
     "output_type": "display_data"
    },
    {
     "data": {
      "text/html": [
       "Synced 5 W&B file(s), 0 media file(s), 0 artifact file(s) and 0 other file(s)"
      ],
      "text/plain": [
       "<IPython.core.display.HTML object>"
      ]
     },
     "metadata": {},
     "output_type": "display_data"
    },
    {
     "data": {
      "text/html": [
       "\n",
       "                    <br/>Synced <strong style=\"color:#cdcd00\">whole-deluge-10</strong>: <a href=\"https://wandb.ai/sharif/lit-wandb/runs/1ka7kps0\" target=\"_blank\">https://wandb.ai/sharif/lit-wandb/runs/1ka7kps0</a><br/>\n",
       "                "
      ],
      "text/plain": [
       "<IPython.core.display.HTML object>"
      ]
     },
     "metadata": {},
     "output_type": "display_data"
    }
   ],
   "source": [
    "wandb.finish()"
   ]
  }
 ],
 "metadata": {
  "kernelspec": {
   "display_name": "Python 3",
   "language": "python",
   "name": "python3"
  },
  "language_info": {
   "codemirror_mode": {
    "name": "ipython",
    "version": 3
   },
   "file_extension": ".py",
   "mimetype": "text/x-python",
   "name": "python",
   "nbconvert_exporter": "python",
   "pygments_lexer": "ipython3",
   "version": "3.8.3"
  }
 },
 "nbformat": 4,
 "nbformat_minor": 4
}
